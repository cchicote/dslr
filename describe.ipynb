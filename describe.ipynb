{
 "cells": [
  {
   "cell_type": "code",
   "execution_count": 1,
   "metadata": {},
   "outputs": [],
   "source": [
    "import pandas as pd\n",
    "import numpy as np\n",
    "import math\n",
    "\n",
    "ddof = 0\n",
    "dataset = pd.read_csv(\"datasets/dataset_train.csv\")\n",
    "dataset.drop(\"Index\", inplace=True, axis=1)\n",
    "dataset.dropna(inplace=True)"
   ]
  },
  {
   "cell_type": "code",
   "execution_count": 2,
   "metadata": {},
   "outputs": [],
   "source": [
    "def warn_diff(feature, val_type, standard_val, local_val):\n",
    "        print(\"DIFF FOR: [%s] [%s] [%f] [%f]\" % (feature, val_type, standard_val, local_val))"
   ]
  },
  {
   "cell_type": "code",
   "execution_count": 3,
   "metadata": {},
   "outputs": [],
   "source": [
    "def retrieve_first_value(values):\n",
    "    v = None\n",
    "    for value in values:\n",
    "        if not math.isnan(value):\n",
    "            v = value\n",
    "            break\n",
    "    return v"
   ]
  },
  {
   "cell_type": "code",
   "execution_count": 4,
   "metadata": {},
   "outputs": [],
   "source": [
    "def my_count(values):\n",
    "    c = 0.0\n",
    "    for value in values:\n",
    "        c += 1\n",
    "    return c"
   ]
  },
  {
   "cell_type": "code",
   "execution_count": 5,
   "metadata": {},
   "outputs": [],
   "source": [
    "def my_sum(values):\n",
    "    s = 0\n",
    "    for value in values:\n",
    "        s += value\n",
    "    return s"
   ]
  },
  {
   "cell_type": "code",
   "execution_count": 6,
   "metadata": {},
   "outputs": [],
   "source": [
    "def my_mean(values):\n",
    "    return (my_sum(values) / my_count(values))"
   ]
  },
  {
   "cell_type": "code",
   "execution_count": 7,
   "metadata": {},
   "outputs": [],
   "source": [
    "def my_std(values, mean, ddof=0):\n",
    "    total = 0.0\n",
    "    for value in values:\n",
    "        total += abs(value - mean)**2\n",
    "    std = np.sqrt(total / (my_count(values) - ddof))\n",
    "    return std"
   ]
  },
  {
   "cell_type": "code",
   "execution_count": 8,
   "metadata": {},
   "outputs": [],
   "source": [
    "def my_min(values):\n",
    "    m = retrieve_first_value(values)\n",
    "    for value in values:\n",
    "        if value < m:\n",
    "            m = value\n",
    "    return m"
   ]
  },
  {
   "cell_type": "code",
   "execution_count": 9,
   "metadata": {},
   "outputs": [],
   "source": [
    "def my_max(values):\n",
    "    m = retrieve_first_value(values)\n",
    "    for value in values:\n",
    "        if value > m:\n",
    "            m = value\n",
    "    return m"
   ]
  },
  {
   "cell_type": "code",
   "execution_count": 10,
   "metadata": {},
   "outputs": [],
   "source": [
    "def my_quantile(values, quantile):\n",
    "    duplicate = values.copy()\n",
    "    duplicate.sort_values(inplace=True)\n",
    "    return duplicate.iloc[int(my_count(duplicate) * quantile)]"
   ]
  },
  {
   "cell_type": "code",
   "execution_count": 11,
   "metadata": {},
   "outputs": [],
   "source": [
    "describe = {}\n",
    "control_values = {}\n",
    "for feature in dataset:\n",
    "    if dataset[feature].dtypes != np.object:\n",
    "        describe[feature] = {}\n",
    "        control_values[feature] = {}\n",
    "        \n",
    "        control_values[feature][\"count\"] = dataset[feature].count()\n",
    "        describe[feature][\"count\"] = my_count(dataset[feature])\n",
    "        \n",
    "        control_values[feature][\"mean\"] = dataset[feature].mean()\n",
    "        describe[feature][\"mean\"] = my_mean(dataset[feature])\n",
    "     \n",
    "        control_values[feature][\"std\"] = dataset[feature].std(ddof=ddof)\n",
    "        describe[feature][\"std\"] = my_std(dataset[feature], describe[feature][\"mean\"], ddof=ddof)\n",
    "        \n",
    "        control_values[feature][\"min\"] = dataset[feature].min()\n",
    "        describe[feature][\"min\"] = my_min(dataset[feature])\n",
    "        \n",
    "        control_values[feature][\"25%\"] = dataset[feature].quantile(.25, interpolation='nearest')     \n",
    "        describe[feature][\"25%\"] = my_quantile(dataset[feature], .25)\n",
    "        \n",
    "        control_values[feature][\"50%\"] = dataset[feature].quantile(.5, interpolation='nearest')     \n",
    "        describe[feature][\"50%\"] = my_quantile(dataset[feature], .5)\n",
    "        \n",
    "        control_values[feature][\"75%\"] = dataset[feature].quantile(.75, interpolation='nearest')     \n",
    "        describe[feature][\"75%\"] = my_quantile(dataset[feature], .75)\n",
    "        \n",
    "        control_values[feature][\"max\"] = dataset[feature].max()\n",
    "        describe[feature][\"max\"] = my_max(dataset[feature])\n",
    "        \n",
    "        for value in control_values[feature].keys():\n",
    "            if not np.isclose(describe[feature][value], control_values[feature][value]):\n",
    "                warn_diff(feature, value, describe[feature][value], control_values[feature][value])\n",
    "        "
   ]
  },
  {
   "cell_type": "code",
   "execution_count": 12,
   "metadata": {},
   "outputs": [
    {
     "name": "stdout",
     "output_type": "stream",
     "text": [
      "Feature name: [Arithmancy]\n",
      "\tcount: [1251.000000]\n",
      "\tmean: [49453.109512]\n",
      "\tstd: [16694.876442]\n",
      "\tmin: [-24370.000000]\n",
      "\t25%: [38144.000000]\n",
      "\t50%: [48793.000000]\n",
      "\t75%: [60828.000000]\n",
      "\tmax: [104956.000000]\n",
      "Feature name: [Astronomy]\n",
      "\tcount: [1251.000000]\n",
      "\tmean: [46.476449]\n",
      "\tstd: [520.737840]\n",
      "\tmin: [-966.740546]\n",
      "\t25%: [-485.396284]\n",
      "\t50%: [272.071636]\n",
      "\t75%: [528.448923]\n",
      "\tmax: [1016.211940]\n",
      "Feature name: [Herbology]\n",
      "\tcount: [1251.000000]\n",
      "\tmean: [1.189457]\n",
      "\tstd: [5.221049]\n",
      "\tmin: [-10.295663]\n",
      "\t25%: [-4.261209]\n",
      "\t50%: [3.526427]\n",
      "\t75%: [5.465608]\n",
      "\tmax: [10.296759]\n",
      "Feature name: [Defense Against the Dark Arts]\n",
      "\tcount: [1251.000000]\n",
      "\tmean: [-0.464764]\n",
      "\tstd: [5.207378]\n",
      "\tmin: [-10.162119]\n",
      "\t25%: [-5.284489]\n",
      "\t50%: [-2.720716]\n",
      "\t75%: [4.853963]\n",
      "\tmax: [9.667405]\n",
      "Feature name: [Divination]\n",
      "\tcount: [1251.000000]\n",
      "\tmean: [3.213831]\n",
      "\tstd: [4.109348]\n",
      "\tmin: [-8.727000]\n",
      "\t25%: [3.103000]\n",
      "\t50%: [4.621000]\n",
      "\t75%: [5.729000]\n",
      "\tmax: [10.032000]\n",
      "Feature name: [Muggle Studies]\n",
      "\tcount: [1251.000000]\n",
      "\tmean: [-222.903666]\n",
      "\tstd: [484.791972]\n",
      "\tmin: [-1043.961527]\n",
      "\t25%: [-574.119995]\n",
      "\t50%: [-419.164294]\n",
      "\t75%: [264.612868]\n",
      "\tmax: [1092.388611]\n",
      "Feature name: [Ancient Runes]\n",
      "\tcount: [1251.000000]\n",
      "\tmean: [496.251457]\n",
      "\tstd: [106.667952]\n",
      "\tmin: [283.869609]\n",
      "\t25%: [396.323152]\n",
      "\t50%: [464.327598]\n",
      "\t75%: [597.703964]\n",
      "\tmax: [745.396220]\n",
      "Feature name: [History of Magic]\n",
      "\tcount: [1251.000000]\n",
      "\tmean: [2.978593]\n",
      "\tstd: [4.455181]\n",
      "\tmin: [-8.431117]\n",
      "\t25%: [2.223745]\n",
      "\t50%: [4.402631]\n",
      "\t75%: [5.893877]\n",
      "\tmax: [11.889713]\n",
      "Feature name: [Transfiguration]\n",
      "\tcount: [1251.000000]\n",
      "\tmean: [1029.862868]\n",
      "\tstd: [43.965295]\n",
      "\tmin: [906.627320]\n",
      "\t25%: [1025.523985]\n",
      "\t50%: [1045.480657]\n",
      "\t75%: [1058.328100]\n",
      "\tmax: [1094.460614]\n",
      "Feature name: [Potions]\n",
      "\tcount: [1251.000000]\n",
      "\tmean: [5.961276]\n",
      "\tstd: [3.101678]\n",
      "\tmin: [-3.620762]\n",
      "\t25%: [3.677991]\n",
      "\t50%: [5.868537]\n",
      "\t75%: [8.206952]\n",
      "\tmax: [13.536762]\n",
      "Feature name: [Care of Magical Creatures]\n",
      "\tcount: [1251.000000]\n",
      "\tmean: [-0.064315]\n",
      "\tstd: [0.972258]\n",
      "\tmin: [-3.313676]\n",
      "\t25%: [-0.695185]\n",
      "\t50%: [-0.065116]\n",
      "\t75%: [0.575629]\n",
      "\tmax: [3.056546]\n",
      "Feature name: [Charms]\n",
      "\tcount: [1251.000000]\n",
      "\tmean: [-243.325723]\n",
      "\tstd: [8.786891]\n",
      "\tmin: [-261.048920]\n",
      "\t25%: [-250.586360]\n",
      "\t50%: [-244.789150]\n",
      "\t75%: [-232.523730]\n",
      "\tmax: [-225.428140]\n",
      "Feature name: [Flying]\n",
      "\tcount: [1251.000000]\n",
      "\tmean: [23.109009]\n",
      "\tstd: [97.715938]\n",
      "\tmin: [-181.470000]\n",
      "\t25%: [-40.090000]\n",
      "\t50%: [-1.920000]\n",
      "\t75%: [52.630000]\n",
      "\tmax: [279.070000]\n"
     ]
    }
   ],
   "source": [
    "for feature in describe.keys():\n",
    "    print(\"Feature name: [%s]\" % (feature))\n",
    "    for value in describe[feature].keys():\n",
    "        print(\"\\t%s: [%0.6f]\" % (value, describe[feature][value]))"
   ]
  },
  {
   "cell_type": "code",
   "execution_count": null,
   "metadata": {},
   "outputs": [],
   "source": []
  },
  {
   "cell_type": "code",
   "execution_count": null,
   "metadata": {},
   "outputs": [],
   "source": []
  },
  {
   "cell_type": "code",
   "execution_count": null,
   "metadata": {},
   "outputs": [],
   "source": []
  }
 ],
 "metadata": {
  "kernelspec": {
   "display_name": "Python 3",
   "language": "python",
   "name": "python3"
  },
  "language_info": {
   "codemirror_mode": {
    "name": "ipython",
    "version": 3
   },
   "file_extension": ".py",
   "mimetype": "text/x-python",
   "name": "python",
   "nbconvert_exporter": "python",
   "pygments_lexer": "ipython3",
   "version": "3.6.9"
  }
 },
 "nbformat": 4,
 "nbformat_minor": 4
}
